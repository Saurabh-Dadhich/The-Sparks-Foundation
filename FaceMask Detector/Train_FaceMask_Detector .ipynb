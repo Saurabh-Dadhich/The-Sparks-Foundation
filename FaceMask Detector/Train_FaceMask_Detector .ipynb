{
 "cells": [
  {
   "cell_type": "markdown",
   "metadata": {},
   "source": [
    "## Saurabh Dadhich\n",
    "### Indian Institute Of Technology, Roorkee"
   ]
  },
  {
   "cell_type": "markdown",
   "metadata": {},
   "source": [
    "## Face Mask detector using Keras and MobileNet:"
   ]
  },
  {
   "cell_type": "markdown",
   "metadata": {},
   "source": [
    "### Importing required packages: "
   ]
  },
  {
   "cell_type": "code",
   "execution_count": 1,
   "metadata": {},
   "outputs": [],
   "source": [
    "import numpy as np\n",
    "import pandas as pd\n",
    "import cv2\n",
    "import matplotlib.pyplot as plt\n",
    "import os\n",
    "from tensorflow.keras.preprocessing.image import ImageDataGenerator\n",
    "from tensorflow.keras.applications import MobileNetV2\n",
    "from tensorflow.keras.layers import AveragePooling2D\n",
    "from tensorflow.keras.layers import Dropout\n",
    "from tensorflow.keras.layers import Flatten\n",
    "from tensorflow.keras.layers import Dense\n",
    "from tensorflow.keras.layers import Input\n",
    "from tensorflow.keras.models import Model\n",
    "from tensorflow.keras.optimizers import Adam\n",
    "from tensorflow.keras.applications.mobilenet_v2 import preprocess_input\n",
    "from tensorflow.keras.preprocessing.image import img_to_array\n",
    "from tensorflow.keras.preprocessing.image import load_img\n",
    "from tensorflow.keras.utils import to_categorical\n",
    "from sklearn.preprocessing import LabelBinarizer\n",
    "from sklearn.model_selection import train_test_split\n",
    "from sklearn.metrics import classification_report\n",
    "from imutils import paths"
   ]
  },
  {
   "cell_type": "markdown",
   "metadata": {},
   "source": [
    "### Data Preprocessing: "
   ]
  },
  {
   "cell_type": "code",
   "execution_count": 2,
   "metadata": {},
   "outputs": [
    {
     "name": "stdout",
     "output_type": "stream",
     "text": [
      "Original dimensions:  (123, 133, 3)\n",
      "Dimensions after passing through function:  (224, 224, 3)\n",
      "Image[0][100] --   [ 0.33333337 -0.08235294 -0.12941176] \n",
      "\n",
      "Dimensions after using openCV:  (224, 224, 3)\n",
      "CV2_Image[0][100] --  [109 115 170]\n"
     ]
    }
   ],
   "source": [
    "# Testing to Show working:\n",
    "\n",
    "test = r\"F:\\Spark foundation\\FaceMask Detector\\dataset\\without_mask\\0_0_benxi_0054.jpg\" \n",
    "img = plt.imread(test)\n",
    "print(\"Original dimensions: \",img.shape)\n",
    "\n",
    "image = load_img(test, target_size=(224, 224))\n",
    "image = img_to_array(image)\n",
    "image = preprocess_input(image) \n",
    "print(\"Dimensions after passing through function: \",image.shape)\n",
    "print(\"Image[0][100] --  \",image[0][100],\"\\n\") \n",
    "\n",
    "\n",
    "cv2_img = cv2.imread(test,1)\n",
    "cv2_img = cv2.resize(cv2_img,(224,224))\n",
    "print(\"Dimensions after using openCV: \",cv2_img.shape)\n",
    "print(\"CV2_Image[0][100] -- \",cv2_img[0][100]) \n",
    "#cv2.imshow(\"test_image\",cv2_img)\n",
    "#cv2.waitKey(0) \n",
    "#cv2.destroyAllWindows()"
   ]
  },
  {
   "cell_type": "markdown",
   "metadata": {},
   "source": [
    "#### Converting images into array and finding labels: "
   ]
  },
  {
   "cell_type": "code",
   "execution_count": 14,
   "metadata": {},
   "outputs": [],
   "source": [
    "def data_preprocessing():\n",
    "    directory_path = r\"F:\\Spark foundation\\FaceMask Detector\\dataset\"\n",
    "    CATEGORIES = [\"with_mask\", \"without_mask\"]\n",
    "    data = []\n",
    "    labels = []\n",
    "    for category in CATEGORIES:\n",
    "        path = os.path.join(directory_path, category)\n",
    "        for img in os.listdir(path):\n",
    "            img_path = os.path.join(path, img)\n",
    "            image = load_img(img_path, target_size=(224, 224))\n",
    "            image = img_to_array(image)\n",
    "            image = preprocess_input(image) \n",
    "\n",
    "            data.append(image)\n",
    "            labels.append(category)\n",
    "\n",
    "\n",
    "    # One-hot encoding labels:        \n",
    "    lb = LabelBinarizer() \n",
    "    labels = lb.fit_transform(labels)                 # return numpy array by default\n",
    "    labels = to_categorical(labels)\n",
    "\n",
    "    data = np.array(data, dtype=\"float32\")\n",
    "    labels = np.array(labels) \n",
    "\n",
    "    print(\"Data shape: \",data.shape)\n",
    "    print(\"Labels: \",labels.shape) \n",
    "    \n",
    "    return data,labels"
   ]
  },
  {
   "cell_type": "code",
   "execution_count": 9,
   "metadata": {},
   "outputs": [],
   "source": [
    "def train_test(data,labels):\n",
    "    (train_X, test_X, train_Y, test_Y) = train_test_split(data, labels,test_size=0.20,shuffle=True,stratify=labels, random_state=42)\n",
    "    \n",
    "    return (train_X, test_X, train_Y, test_Y) "
   ]
  },
  {
   "cell_type": "markdown",
   "metadata": {},
   "source": [
    "### Data Augmentation:\n",
    "As dataset is too small we will use data augmentation to create more images from a single image.\n"
   ]
  },
  {
   "cell_type": "code",
   "execution_count": 10,
   "metadata": {},
   "outputs": [],
   "source": [
    "def data_augmentation():    \n",
    "    aug = ImageDataGenerator(rotation_range=20,\n",
    "        zoom_range=0.15,\n",
    "        width_shift_range=0.2,\n",
    "        height_shift_range=0.2,\n",
    "        shear_range=0.15,\n",
    "        horizontal_flip=True,\n",
    "        fill_mode=\"nearest\")\n",
    "    \n",
    "    return aug"
   ]
  },
  {
   "cell_type": "code",
   "execution_count": 11,
   "metadata": {},
   "outputs": [],
   "source": [
    "def base_model(input_shape):\n",
    "    baseModel = MobileNetV2(weights=\"imagenet\",include_top=False,input_tensor=Input(shape = input_shape))\n",
    "    \n",
    "    return baseModel  "
   ]
  },
  {
   "cell_type": "code",
   "execution_count": 12,
   "metadata": {},
   "outputs": [],
   "source": [
    "def model_graph(baseModel):\n",
    "    headModel = baseModel.output\n",
    "    headModel = AveragePooling2D(pool_size=(7, 7))(headModel)\n",
    "    headModel = Flatten(name=\"flatten\")(headModel)\n",
    "    headModel = Dense(128, activation=\"relu\")(headModel)\n",
    "    headModel = Dropout(0.5)(headModel)\n",
    "    headModel = Dense(2, activation=\"softmax\")(headModel)    \n",
    "    model = Model(inputs=baseModel.input, outputs=headModel) \n",
    "    for layer in baseModel.layers:\n",
    "        layer.trainable = False\n",
    "        \n",
    "    return model"
   ]
  },
  {
   "cell_type": "markdown",
   "metadata": {},
   "source": [
    "### Training model: "
   ]
  },
  {
   "cell_type": "code",
   "execution_count": 16,
   "metadata": {},
   "outputs": [
    {
     "name": "stderr",
     "output_type": "stream",
     "text": [
      "D:\\Anaconda\\envs\\py37\\lib\\site-packages\\PIL\\Image.py:963: UserWarning: Palette images with Transparency expressed in bytes should be converted to RGBA images\n",
      "  \"Palette images with Transparency expressed in bytes should be \"\n"
     ]
    },
    {
     "name": "stdout",
     "output_type": "stream",
     "text": [
      "Data shape:  (3833, 224, 224, 3)\n",
      "Labels:  (3833, 2)\n"
     ]
    },
    {
     "name": "stderr",
     "output_type": "stream",
     "text": [
      "D:\\Anaconda\\envs\\py37\\lib\\site-packages\\keras_applications\\mobilenet_v2.py:294: UserWarning: `input_shape` is undefined or non-square, or `rows` is not in [96, 128, 160, 192, 224]. Weights for input shape (224, 224) will be loaded as the default.\n",
      "  warnings.warn('`input_shape` is undefined or non-square, '\n"
     ]
    }
   ],
   "source": [
    "data,labels = data_preprocessing()\n",
    "train_X, test_X, train_Y, test_Y = train_test(data,labels)\n",
    "aug = data_augmentation()\n",
    "baseModel = base_model(train_X.shape[1:])\n",
    "model = model_graph(baseModel)\n",
    "\n",
    "model.compile(loss=\"binary_crossentropy\", optimizer=\"adam\",metrics=[\"accuracy\"]) "
   ]
  },
  {
   "cell_type": "code",
   "execution_count": 19,
   "metadata": {},
   "outputs": [
    {
     "name": "stdout",
     "output_type": "stream",
     "text": [
      "WARNING:tensorflow:sample_weight modes were coerced from\n",
      "  ...\n",
      "    to  \n",
      "  ['...']\n",
      "Train for 95 steps, validate on 767 samples\n",
      "Epoch 1/20\n",
      "95/95 [==============================] - 289s 3s/step - loss: 0.3125 - accuracy: 0.8695 - val_loss: 0.4773 - val_accuracy: 0.8533\n",
      "Epoch 2/20\n",
      "95/95 [==============================] - 316s 3s/step - loss: 0.1412 - accuracy: 0.9400 - val_loss: 0.2016 - val_accuracy: 0.9090\n",
      "Epoch 3/20\n",
      "95/95 [==============================] - 292s 3s/step - loss: 0.1281 - accuracy: 0.9532 - val_loss: 0.4824 - val_accuracy: 0.8655\n",
      "Epoch 4/20\n",
      "95/95 [==============================] - 522s 5s/step - loss: 0.1363 - accuracy: 0.9469 - val_loss: 0.4171 - val_accuracy: 0.8736\n",
      "Epoch 5/20\n",
      "95/95 [==============================] - 522s 5s/step - loss: 0.1000 - accuracy: 0.9628 - val_loss: 0.2267 - val_accuracy: 0.9158\n",
      "Epoch 6/20\n",
      "95/95 [==============================] - 384s 4s/step - loss: 0.1170 - accuracy: 0.9542 - val_loss: 0.2619 - val_accuracy: 0.9035\n",
      "Epoch 7/20\n",
      "95/95 [==============================] - 281s 3s/step - loss: 0.0998 - accuracy: 0.9614 - val_loss: 0.2886 - val_accuracy: 0.8981\n",
      "Epoch 8/20\n",
      "95/95 [==============================] - 279s 3s/step - loss: 0.0863 - accuracy: 0.9703 - val_loss: 0.1604 - val_accuracy: 0.9348\n",
      "Epoch 9/20\n",
      "95/95 [==============================] - 280s 3s/step - loss: 0.0917 - accuracy: 0.9664 - val_loss: 0.3996 - val_accuracy: 0.8804\n",
      "Epoch 10/20\n",
      "95/95 [==============================] - 280s 3s/step - loss: 0.0831 - accuracy: 0.9710 - val_loss: 0.3964 - val_accuracy: 0.8723\n",
      "Epoch 11/20\n",
      "95/95 [==============================] - 279s 3s/step - loss: 0.0711 - accuracy: 0.9769 - val_loss: 0.3171 - val_accuracy: 0.8967\n",
      "Epoch 12/20\n",
      "95/95 [==============================] - 278s 3s/step - loss: 0.0688 - accuracy: 0.9763 - val_loss: 0.1862 - val_accuracy: 0.9307\n",
      "Epoch 13/20\n",
      "95/95 [==============================] - 279s 3s/step - loss: 0.0623 - accuracy: 0.9773 - val_loss: 0.2740 - val_accuracy: 0.9212\n",
      "Epoch 14/20\n",
      "95/95 [==============================] - 279s 3s/step - loss: 0.0694 - accuracy: 0.9750 - val_loss: 0.2458 - val_accuracy: 0.9158\n",
      "Epoch 15/20\n",
      "95/95 [==============================] - 543s 6s/step - loss: 0.0626 - accuracy: 0.9766 - val_loss: 0.4529 - val_accuracy: 0.8804\n",
      "Epoch 16/20\n",
      "95/95 [==============================] - 291s 3s/step - loss: 0.0732 - accuracy: 0.9713 - val_loss: 0.4268 - val_accuracy: 0.8764\n",
      "Epoch 17/20\n",
      "95/95 [==============================] - 285s 3s/step - loss: 0.0641 - accuracy: 0.9766 - val_loss: 0.1466 - val_accuracy: 0.9402\n",
      "Epoch 18/20\n",
      "95/95 [==============================] - 279s 3s/step - loss: 0.0787 - accuracy: 0.9720 - val_loss: 0.1864 - val_accuracy: 0.9280\n",
      "Epoch 19/20\n",
      "95/95 [==============================] - 566s 6s/step - loss: 0.0805 - accuracy: 0.9670 - val_loss: 0.2447 - val_accuracy: 0.9226\n",
      "Epoch 20/20\n",
      "95/95 [==============================] - 280s 3s/step - loss: 0.0606 - accuracy: 0.9779 - val_loss: 0.2440 - val_accuracy: 0.9226\n"
     ]
    }
   ],
   "source": [
    "# Below flow method will generate batches of randomly transformed images\n",
    "\n",
    "His = model.fit(aug.flow(train_X, train_Y, batch_size=32),\n",
    "    steps_per_epoch=len(train_X) // 32,validation_data=(test_X, test_Y),\n",
    "    validation_steps=len(test_X) // 32,epochs=20)  "
   ]
  },
  {
   "cell_type": "markdown",
   "metadata": {},
   "source": [
    "### Saving model: "
   ]
  },
  {
   "cell_type": "code",
   "execution_count": 22,
   "metadata": {},
   "outputs": [],
   "source": [
    "model.save(\"Mask_detector_model\", save_format=\"h5\")"
   ]
  },
  {
   "cell_type": "code",
   "execution_count": 21,
   "metadata": {},
   "outputs": [
    {
     "data": {
      "image/png": "[encoded data removed]",
      "text/plain": [
       "<Figure size 432x288 with 1 Axes>"
      ]
     },
     "metadata": {},
     "output_type": "display_data"
    }
   ],
   "source": [
    "plt.style.use(\"ggplot\")\n",
    "plt.figure()\n",
    "plt.plot(np.arange(0, 20), His.history[\"loss\"], label=\"train_loss\")\n",
    "plt.plot(np.arange(0, 20), His.history[\"val_loss\"], label=\"val_loss\")\n",
    "plt.plot(np.arange(0, 20), His.history[\"accuracy\"], label=\"train_acc\")\n",
    "plt.plot(np.arange(0, 20), His.history[\"val_accuracy\"], label=\"val_acc\")\n",
    "plt.title(\"Training Loss and Accuracy\")\n",
    "plt.xlabel(\"Epoch #\")\n",
    "plt.ylabel(\"Loss/Accuracy\")\n",
    "plt.legend(loc=\"center right\") \n",
    "plt.savefig(\"FaceMask_plot.png\") "
   ]
  },
  {
   "cell_type": "code",
   "execution_count": null,
   "metadata": {},
   "outputs": [],
   "source": []
  }
 ],
 "metadata": {
  "kernelspec": {
   "display_name": "Python 3",
   "language": "python",
   "name": "python3"
  },
  "language_info": {
   "codemirror_mode": {
    "name": "ipython",
    "version": 3
   },
   "file_extension": ".py",
   "mimetype": "text/x-python",
   "name": "python",
   "nbconvert_exporter": "python",
   "pygments_lexer": "ipython3",
   "version": "3.7.9"
  }
 },
 "nbformat": 4,
 "nbformat_minor": 2
}
