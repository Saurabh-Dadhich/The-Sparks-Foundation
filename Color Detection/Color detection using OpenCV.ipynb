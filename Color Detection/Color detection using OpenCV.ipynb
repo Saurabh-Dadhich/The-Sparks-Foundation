{
 "cells": [
  {
   "cell_type": "markdown",
   "metadata": {},
   "source": [
    "## Saurabh Dadhich \n",
    "### Indian Institute of Technology,Roorkee"
   ]
  },
  {
   "cell_type": "markdown",
   "metadata": {},
   "source": [
    "## Color detection using OpenCV \n",
    "We are going to detect particular color in video using openCV."
   ]
  },
  {
   "cell_type": "markdown",
   "metadata": {},
   "source": [
    "### Loading required packages: "
   ]
  },
  {
   "cell_type": "code",
   "execution_count": 2,
   "metadata": {},
   "outputs": [],
   "source": [
    "import numpy as np\n",
    "import pandas as pd\n",
    "import matplotlib.pyplot as plt\n",
    "import cv2"
   ]
  },
  {
   "cell_type": "markdown",
   "metadata": {},
   "source": [
    "### Loading web camera: \n",
    "\n",
    "waitKey(0) will pause your screen because it will wait infinitely for keyPress on your keyboard and will not refresh the frame(cap.read()) using your WebCam. \n",
    "waitKey(1) will wait for keyPress for just 1 millisecond and it will continue to refresh and read frame from your webcam using cap.read().\n",
    "\n",
    "cv2.waitkey(1) takes input 27 for 'ESC' keyboard button."
   ]
  },
  {
   "cell_type": "code",
   "execution_count": 3,
   "metadata": {},
   "outputs": [],
   "source": [
    "cap = cv2.VideoCapture(0)                           # 0 for standard web camera"
   ]
  },
  {
   "cell_type": "markdown",
   "metadata": {},
   "source": [
    "### cv2.inRange(src, lowerb, upperb)  function:\n",
    "Here, src is the input image. ‘lowerb’ and ‘upperb’ denotes the lower and upper boundary of the threshold region. A pixel is set to 255 if it lies within the boundaries specified otherwise set to 0. This way it returns the thresholded image.\n",
    "\n",
    "### cv2.bitwise_and(img1,img2,mask):\n",
    "Perform \" bitwise and \" operation on img1 and img2 with respect to mask."
   ]
  },
  {
   "cell_type": "code",
   "execution_count": 4,
   "metadata": {},
   "outputs": [],
   "source": [
    "def color_detection(color): \n",
    "    while True:\n",
    "        ret,frame = cap.read()\n",
    "        # gray_frame = cv2.cvtColor(frame,cv2.COLOR_BGR2GRAY)\n",
    "        hsv_frame = cv2.cvtColor(frame,cv2.COLOR_BGR2HSV)\n",
    "        \n",
    "        # To show actual frame: \n",
    "        cv2.imshow(\"Frame\",frame)\n",
    "        \n",
    "        if(color=='RED'):\n",
    "            #RED COLOR\n",
    "            low_red = np.array([161,155,85])\n",
    "            high_red = np.array([179,255,255])\n",
    "            red_mask = cv2.inRange(hsv_frame,low_red,high_red)\n",
    "            red = cv2.bitwise_and(frame,frame,mask=red_mask)\n",
    "            cv2.imshow(\"RED\",red)\n",
    "            \n",
    "        if(color=='BLUE'):\n",
    "            #BLUE COLOR\n",
    "            low_red = np.array([94,80,2])\n",
    "            high_red = np.array([126,255,255])\n",
    "            blue_mask = cv2.inRange(hsv_frame,low_blue,high_blue)\n",
    "            blue = cv2.bitwise_and(frame,frame,mask=blue_mask)\n",
    "            cv2.imshow(\"BLUE\",blue)    \n",
    "\n",
    "        if(color=='GREEN'):\n",
    "            #GREEN COLOR\n",
    "            low_green = np.array([25,52,72])\n",
    "            high_green = np.array([102,255,255])\n",
    "            green_mask = cv2.inRange(hsv_frame,low_green,high_green)\n",
    "            green = cv2.bitwise_and(frame,frame,mask=green_mask)\n",
    "            cv2.imshow(\"GREEN\",green) \n",
    "\n",
    "        if(color=='NOT_WHITE'):\n",
    "            #NOT_WHITE COLOR\n",
    "            low_not_white = np.array([0,42,0])\n",
    "            high_not_white = np.array([179,255,255])\n",
    "            not_white_mask = cv2.inRange(hsv_frame,low_not_white,high_not_white)\n",
    "            not_white = cv2.bitwise_and(frame,frame,mask=not_white_mask)\n",
    "            cv2.imshow(\"NOT_WHITE\",not_white)    \n",
    "            \n",
    "        key = cv2.waitKey(1)\n",
    "        if key == 27:\n",
    "            break"
   ]
  },
  {
   "cell_type": "markdown",
   "metadata": {},
   "source": [
    "### Detecting RED color in video: "
   ]
  },
  {
   "cell_type": "code",
   "execution_count": 4,
   "metadata": {},
   "outputs": [],
   "source": [
    "color_detection(\"RED\") "
   ]
  },
  {
   "cell_type": "markdown",
   "metadata": {},
   "source": [
    "###  Detecting BLUE color in video: "
   ]
  },
  {
   "cell_type": "code",
   "execution_count": null,
   "metadata": {},
   "outputs": [],
   "source": [
    "color_detection(\"BLUE\")  "
   ]
  },
  {
   "cell_type": "markdown",
   "metadata": {},
   "source": [
    "###  Detecting GREEN color in video: "
   ]
  },
  {
   "cell_type": "code",
   "execution_count": null,
   "metadata": {},
   "outputs": [],
   "source": [
    "color_detection(\"GREEN\") "
   ]
  },
  {
   "cell_type": "markdown",
   "metadata": {},
   "source": [
    "###  Detecting NOT_WHITE color in video: "
   ]
  },
  {
   "cell_type": "code",
   "execution_count": 5,
   "metadata": {},
   "outputs": [],
   "source": [
    "color_detection(\"NOT_WHITE\") "
   ]
  },
  {
   "cell_type": "code",
   "execution_count": null,
   "metadata": {},
   "outputs": [],
   "source": []
  }
 ],
 "metadata": {
  "kernelspec": {
   "display_name": "Python 3",
   "language": "python",
   "name": "python3"
  },
  "language_info": {
   "codemirror_mode": {
    "name": "ipython",
    "version": 3
   },
   "file_extension": ".py",
   "mimetype": "text/x-python",
   "name": "python",
   "nbconvert_exporter": "python",
   "pygments_lexer": "ipython3",
   "version": "3.5.5"
  }
 },
 "nbformat": 4,
 "nbformat_minor": 2
}
