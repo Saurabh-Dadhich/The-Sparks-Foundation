{
 "cells": [
  {
   "cell_type": "markdown",
   "id": "fifth-dubai",
   "metadata": {},
   "source": [
    "## Saurabh Dadhich\n",
    "### Indian Institute Of Technology"
   ]
  },
  {
   "cell_type": "markdown",
   "id": "opponent-bishop",
   "metadata": {},
   "source": [
    "## Decision Tree algorithm Implementation: "
   ]
  },
  {
   "cell_type": "markdown",
   "id": "filled-composer",
   "metadata": {},
   "source": [
    "### Importing required packages: "
   ]
  },
  {
   "cell_type": "code",
   "execution_count": 1,
   "id": "responsible-leave",
   "metadata": {},
   "outputs": [],
   "source": [
    "import numpy as np\n",
    "import pandas as pd\n",
    "import sklearn\n",
    "from sklearn.tree import DecisionTreeClassifier\n",
    "from sklearn.metrics import confusion_matrix\n",
    "from sklearn.metrics import classification_report \n",
    "from sklearn import tree\n",
    "from sklearn.metrics import accuracy_score\n",
    "from sklearn.preprocessing import LabelEncoder\n",
    "from sklearn.model_selection import train_test_split\n",
    "import matplotlib.pyplot as plt\n",
    "from sklearn.tree import export_graphviz\n",
    "import graphviz"
   ]
  },
  {
   "cell_type": "markdown",
   "id": "friendly-malta",
   "metadata": {},
   "source": [
    "### Preprocessing Data: "
   ]
  },
  {
   "cell_type": "code",
   "execution_count": 2,
   "id": "informal-richmond",
   "metadata": {},
   "outputs": [],
   "source": [
    "data = pd.read_csv(r\"Iris.csv\")"
   ]
  },
  {
   "cell_type": "code",
   "execution_count": 3,
   "id": "pursuant-antibody",
   "metadata": {},
   "outputs": [
    {
     "name": "stdout",
     "output_type": "stream",
     "text": [
      "   Id  SepalLengthCm  SepalWidthCm  PetalLengthCm  PetalWidthCm      Species\n",
      "0   1            5.1           3.5            1.4           0.2  Iris-setosa\n",
      "1   2            4.9           3.0            1.4           0.2  Iris-setosa\n",
      "2   3            4.7           3.2            1.3           0.2  Iris-setosa\n",
      "3   4            4.6           3.1            1.5           0.2  Iris-setosa\n",
      "4   5            5.0           3.6            1.4           0.2  Iris-setosa\n"
     ]
    }
   ],
   "source": [
    "print(data.head())"
   ]
  },
  {
   "cell_type": "code",
   "execution_count": 4,
   "id": "greenhouse-profit",
   "metadata": {},
   "outputs": [
    {
     "name": "stdout",
     "output_type": "stream",
     "text": [
      "Id               0\n",
      "SepalLengthCm    0\n",
      "SepalWidthCm     0\n",
      "PetalLengthCm    0\n",
      "PetalWidthCm     0\n",
      "Species          0\n",
      "dtype: int64\n"
     ]
    }
   ],
   "source": [
    "print(data.isnull().sum())"
   ]
  },
  {
   "cell_type": "code",
   "execution_count": 5,
   "id": "published-conflict",
   "metadata": {},
   "outputs": [
    {
     "name": "stdout",
     "output_type": "stream",
     "text": [
      "Shape of data_X:   (150, 4)\n",
      "Shape of data_Y:   (150,)\n"
     ]
    }
   ],
   "source": [
    "#species_encoder = LabelEncoder()\n",
    "#data[\"Species\"] = species_encoder.fit_transform(data['Species'])           # returns numpy array\n",
    "\n",
    "\n",
    "data_X = data.drop(['Species','Id'],axis = 1)\n",
    "data_Y = data['Species']  \n",
    "\n",
    "print(\"Shape of data_X:  \",data_X.shape)\n",
    "print(\"Shape of data_Y:  \",data_Y.shape)"
   ]
  },
  {
   "cell_type": "code",
   "execution_count": 6,
   "id": "confidential-operations",
   "metadata": {},
   "outputs": [
    {
     "name": "stdout",
     "output_type": "stream",
     "text": [
      "       SepalLengthCm  SepalWidthCm  PetalLengthCm  PetalWidthCm\n",
      "count     150.000000    150.000000     150.000000    150.000000\n",
      "mean        5.843333      3.054000       3.758667      1.198667\n",
      "std         0.828066      0.433594       1.764420      0.763161\n",
      "min         4.300000      2.000000       1.000000      0.100000\n",
      "25%         5.100000      2.800000       1.600000      0.300000\n",
      "50%         5.800000      3.000000       4.350000      1.300000\n",
      "75%         6.400000      3.300000       5.100000      1.800000\n",
      "max         7.900000      4.400000       6.900000      2.500000\n"
     ]
    }
   ],
   "source": [
    "print(data_X.describe())"
   ]
  },
  {
   "cell_type": "markdown",
   "id": "discrete-remark",
   "metadata": {},
   "source": [
    "### Train Test split: "
   ]
  },
  {
   "cell_type": "code",
   "execution_count": 7,
   "id": "given-database",
   "metadata": {},
   "outputs": [],
   "source": [
    "train_X, test_X, train_Y, test_Y = train_test_split(data_X, data_Y, test_size = 0.25, random_state = 100) \n",
    "print(\"Train_X shape: \",train_X.shape)\n",
    "print(\"Train_Y shape: \",train_Y.shape)\n",
    "print(\"Test_X shape: \",test_X.shape)\n",
    "print(\"Test_Y shape: \",test_y.shape)"
   ]
  },
  {
   "cell_type": "markdown",
   "id": "ideal-carry",
   "metadata": {},
   "source": [
    "### Model Training: "
   ]
  },
  {
   "cell_type": "code",
   "execution_count": 8,
   "id": "renewable-revolution",
   "metadata": {},
   "outputs": [],
   "source": [
    "Tree = DecisionTreeClassifier(criterion = \"gini\",random_state = 100,max_depth=4, min_samples_leaf=2)"
   ]
  },
  {
   "cell_type": "code",
   "execution_count": 9,
   "id": "empty-ceremony",
   "metadata": {},
   "outputs": [
    {
     "data": {
      "text/plain": [
       "DecisionTreeClassifier(max_depth=4, min_samples_leaf=2, random_state=100)"
      ]
     },
     "execution_count": 9,
     "metadata": {},
     "output_type": "execute_result"
    }
   ],
   "source": [
    "Tree.fit(train_X,train_Y)"
   ]
  },
  {
   "cell_type": "markdown",
   "id": "future-television",
   "metadata": {},
   "source": [
    "### Visualising Decision Tree graph:"
   ]
  },
  {
   "cell_type": "code",
   "execution_count": 24,
   "id": "divided-miami",
   "metadata": {},
   "outputs": [
    {
     "data": {
      "image/svg+xml": [
       "<?xml version=\"1.0\" encoding=\"UTF-8\" standalone=\"no\"?>\r\n",
       "<!DOCTYPE svg PUBLIC \"-//W3C//DTD SVG 1.1//EN\"\r\n",
       " \"http://www.w3.org/Graphics/SVG/1.1/DTD/svg11.dtd\">\r\n",
       "<!-- Generated by graphviz version 2.38.0 (20140413.2041)\r\n",
       " -->\r\n",
       "<!-- Title: Tree Pages: 1 -->\r\n",
       "<svg width=\"622pt\" height=\"552pt\"\r\n",
       " viewBox=\"0.00 0.00 622.00 552.00\" xmlns=\"http://www.w3.org/2000/svg\" xmlns:xlink=\"http://www.w3.org/1999/xlink\">\r\n",
       "<g id=\"graph0\" class=\"graph\" transform=\"scale(1 1) rotate(0) translate(4 548)\">\r\n",
       "<title>Tree</title>\r\n",
       "<polygon fill=\"white\" stroke=\"none\" points=\"-4,4 -4,-548 618,-548 618,4 -4,4\"/>\r\n",
       "<!-- 0 -->\r\n",
       "<g id=\"node1\" class=\"node\"><title>0</title>\r\n",
       "<polygon fill=\"#f5fef8\" stroke=\"black\" points=\"293,-544 143,-544 143,-461 293,-461 293,-544\"/>\r\n",
       "<text text-anchor=\"middle\" x=\"218\" y=\"-528.8\" font-family=\"Times New Roman,serif\" font-size=\"14.00\">PetalLengthCm &lt;= 2.45</text>\r\n",
       "<text text-anchor=\"middle\" x=\"218\" y=\"-513.8\" font-family=\"Times New Roman,serif\" font-size=\"14.00\">gini = 0.666</text>\r\n",
       "<text text-anchor=\"middle\" x=\"218\" y=\"-498.8\" font-family=\"Times New Roman,serif\" font-size=\"14.00\">samples = 112</text>\r\n",
       "<text text-anchor=\"middle\" x=\"218\" y=\"-483.8\" font-family=\"Times New Roman,serif\" font-size=\"14.00\">value = [36, 40, 36]</text>\r\n",
       "<text text-anchor=\"middle\" x=\"218\" y=\"-468.8\" font-family=\"Times New Roman,serif\" font-size=\"14.00\">class = Iris&#45;setosa</text>\r\n",
       "</g>\r\n",
       "<!-- 1 -->\r\n",
       "<g id=\"node2\" class=\"node\"><title>1</title>\r\n",
       "<polygon fill=\"#e58139\" stroke=\"black\" points=\"204.5,-417.5 75.5,-417.5 75.5,-349.5 204.5,-349.5 204.5,-417.5\"/>\r\n",
       "<text text-anchor=\"middle\" x=\"140\" y=\"-402.3\" font-family=\"Times New Roman,serif\" font-size=\"14.00\">gini = 0.0</text>\r\n",
       "<text text-anchor=\"middle\" x=\"140\" y=\"-387.3\" font-family=\"Times New Roman,serif\" font-size=\"14.00\">samples = 36</text>\r\n",
       "<text text-anchor=\"middle\" x=\"140\" y=\"-372.3\" font-family=\"Times New Roman,serif\" font-size=\"14.00\">value = [36, 0, 0]</text>\r\n",
       "<text text-anchor=\"middle\" x=\"140\" y=\"-357.3\" font-family=\"Times New Roman,serif\" font-size=\"14.00\">class = Iris&#45;virginica</text>\r\n",
       "</g>\r\n",
       "<!-- 0&#45;&gt;1 -->\r\n",
       "<g id=\"edge1\" class=\"edge\"><title>0&#45;&gt;1</title>\r\n",
       "<path fill=\"none\" stroke=\"black\" d=\"M190.938,-460.907C183.435,-449.652 175.279,-437.418 167.737,-426.106\"/>\r\n",
       "<polygon fill=\"black\" stroke=\"black\" points=\"170.571,-424.046 162.111,-417.667 164.746,-427.929 170.571,-424.046\"/>\r\n",
       "<text text-anchor=\"middle\" x=\"157.208\" y=\"-438.481\" font-family=\"Times New Roman,serif\" font-size=\"14.00\">True</text>\r\n",
       "</g>\r\n",
       "<!-- 2 -->\r\n",
       "<g id=\"node3\" class=\"node\"><title>2</title>\r\n",
       "<polygon fill=\"#ebfcf2\" stroke=\"black\" points=\"369,-425 223,-425 223,-342 369,-342 369,-425\"/>\r\n",
       "<text text-anchor=\"middle\" x=\"296\" y=\"-409.8\" font-family=\"Times New Roman,serif\" font-size=\"14.00\">PetalWidthCm &lt;= 1.65</text>\r\n",
       "<text text-anchor=\"middle\" x=\"296\" y=\"-394.8\" font-family=\"Times New Roman,serif\" font-size=\"14.00\">gini = 0.499</text>\r\n",
       "<text text-anchor=\"middle\" x=\"296\" y=\"-379.8\" font-family=\"Times New Roman,serif\" font-size=\"14.00\">samples = 76</text>\r\n",
       "<text text-anchor=\"middle\" x=\"296\" y=\"-364.8\" font-family=\"Times New Roman,serif\" font-size=\"14.00\">value = [0, 40, 36]</text>\r\n",
       "<text text-anchor=\"middle\" x=\"296\" y=\"-349.8\" font-family=\"Times New Roman,serif\" font-size=\"14.00\">class = Iris&#45;setosa</text>\r\n",
       "</g>\r\n",
       "<!-- 0&#45;&gt;2 -->\r\n",
       "<g id=\"edge2\" class=\"edge\"><title>0&#45;&gt;2</title>\r\n",
       "<path fill=\"none\" stroke=\"black\" d=\"M245.062,-460.907C250.93,-452.105 257.198,-442.703 263.259,-433.612\"/>\r\n",
       "<polygon fill=\"black\" stroke=\"black\" points=\"266.351,-435.283 268.986,-425.021 260.527,-431.4 266.351,-435.283\"/>\r\n",
       "<text text-anchor=\"middle\" x=\"273.889\" y=\"-445.835\" font-family=\"Times New Roman,serif\" font-size=\"14.00\">False</text>\r\n",
       "</g>\r\n",
       "<!-- 3 -->\r\n",
       "<g id=\"node4\" class=\"node\"><title>3</title>\r\n",
       "<polygon fill=\"#48e78b\" stroke=\"black\" points=\"282.5,-306 139.5,-306 139.5,-223 282.5,-223 282.5,-306\"/>\r\n",
       "<text text-anchor=\"middle\" x=\"211\" y=\"-290.8\" font-family=\"Times New Roman,serif\" font-size=\"14.00\">PetalLengthCm &lt;= 5.0</text>\r\n",
       "<text text-anchor=\"middle\" x=\"211\" y=\"-275.8\" font-family=\"Times New Roman,serif\" font-size=\"14.00\">gini = 0.133</text>\r\n",
       "<text text-anchor=\"middle\" x=\"211\" y=\"-260.8\" font-family=\"Times New Roman,serif\" font-size=\"14.00\">samples = 42</text>\r\n",
       "<text text-anchor=\"middle\" x=\"211\" y=\"-245.8\" font-family=\"Times New Roman,serif\" font-size=\"14.00\">value = [0, 39, 3]</text>\r\n",
       "<text text-anchor=\"middle\" x=\"211\" y=\"-230.8\" font-family=\"Times New Roman,serif\" font-size=\"14.00\">class = Iris&#45;setosa</text>\r\n",
       "</g>\r\n",
       "<!-- 2&#45;&gt;3 -->\r\n",
       "<g id=\"edge3\" class=\"edge\"><title>2&#45;&gt;3</title>\r\n",
       "<path fill=\"none\" stroke=\"black\" d=\"M266.51,-341.907C260.049,-333.014 253.143,-323.509 246.476,-314.331\"/>\r\n",
       "<polygon fill=\"black\" stroke=\"black\" points=\"249.147,-312.054 240.438,-306.021 243.484,-316.168 249.147,-312.054\"/>\r\n",
       "</g>\r\n",
       "<!-- 8 -->\r\n",
       "<g id=\"node9\" class=\"node\"><title>8</title>\r\n",
       "<polygon fill=\"#853fe6\" stroke=\"black\" points=\"456,-306 306,-306 306,-223 456,-223 456,-306\"/>\r\n",
       "<text text-anchor=\"middle\" x=\"381\" y=\"-290.8\" font-family=\"Times New Roman,serif\" font-size=\"14.00\">PetalLengthCm &lt;= 4.85</text>\r\n",
       "<text text-anchor=\"middle\" x=\"381\" y=\"-275.8\" font-family=\"Times New Roman,serif\" font-size=\"14.00\">gini = 0.057</text>\r\n",
       "<text text-anchor=\"middle\" x=\"381\" y=\"-260.8\" font-family=\"Times New Roman,serif\" font-size=\"14.00\">samples = 34</text>\r\n",
       "<text text-anchor=\"middle\" x=\"381\" y=\"-245.8\" font-family=\"Times New Roman,serif\" font-size=\"14.00\">value = [0, 1, 33]</text>\r\n",
       "<text text-anchor=\"middle\" x=\"381\" y=\"-230.8\" font-family=\"Times New Roman,serif\" font-size=\"14.00\">class = Iris&#45;versicolor</text>\r\n",
       "</g>\r\n",
       "<!-- 2&#45;&gt;8 -->\r\n",
       "<g id=\"edge8\" class=\"edge\"><title>2&#45;&gt;8</title>\r\n",
       "<path fill=\"none\" stroke=\"black\" d=\"M325.49,-341.907C331.951,-333.014 338.857,-323.509 345.524,-314.331\"/>\r\n",
       "<polygon fill=\"black\" stroke=\"black\" points=\"348.516,-316.168 351.562,-306.021 342.853,-312.054 348.516,-316.168\"/>\r\n",
       "</g>\r\n",
       "<!-- 4 -->\r\n",
       "<g id=\"node5\" class=\"node\"><title>4</title>\r\n",
       "<polygon fill=\"#39e581\" stroke=\"black\" points=\"118,-179.5 0,-179.5 0,-111.5 118,-111.5 118,-179.5\"/>\r\n",
       "<text text-anchor=\"middle\" x=\"59\" y=\"-164.3\" font-family=\"Times New Roman,serif\" font-size=\"14.00\">gini = 0.0</text>\r\n",
       "<text text-anchor=\"middle\" x=\"59\" y=\"-149.3\" font-family=\"Times New Roman,serif\" font-size=\"14.00\">samples = 38</text>\r\n",
       "<text text-anchor=\"middle\" x=\"59\" y=\"-134.3\" font-family=\"Times New Roman,serif\" font-size=\"14.00\">value = [0, 38, 0]</text>\r\n",
       "<text text-anchor=\"middle\" x=\"59\" y=\"-119.3\" font-family=\"Times New Roman,serif\" font-size=\"14.00\">class = Iris&#45;setosa</text>\r\n",
       "</g>\r\n",
       "<!-- 3&#45;&gt;4 -->\r\n",
       "<g id=\"edge4\" class=\"edge\"><title>3&#45;&gt;4</title>\r\n",
       "<path fill=\"none\" stroke=\"black\" d=\"M158.264,-222.907C142.639,-210.88 125.561,-197.735 110.045,-185.791\"/>\r\n",
       "<polygon fill=\"black\" stroke=\"black\" points=\"112.148,-182.993 102.089,-179.667 107.878,-188.54 112.148,-182.993\"/>\r\n",
       "</g>\r\n",
       "<!-- 5 -->\r\n",
       "<g id=\"node6\" class=\"node\"><title>5</title>\r\n",
       "<polygon fill=\"#ab7bee\" stroke=\"black\" points=\"286,-187 136,-187 136,-104 286,-104 286,-187\"/>\r\n",
       "<text text-anchor=\"middle\" x=\"211\" y=\"-171.8\" font-family=\"Times New Roman,serif\" font-size=\"14.00\">SepalWidthCm &lt;= 2.75</text>\r\n",
       "<text text-anchor=\"middle\" x=\"211\" y=\"-156.8\" font-family=\"Times New Roman,serif\" font-size=\"14.00\">gini = 0.375</text>\r\n",
       "<text text-anchor=\"middle\" x=\"211\" y=\"-141.8\" font-family=\"Times New Roman,serif\" font-size=\"14.00\">samples = 4</text>\r\n",
       "<text text-anchor=\"middle\" x=\"211\" y=\"-126.8\" font-family=\"Times New Roman,serif\" font-size=\"14.00\">value = [0, 1, 3]</text>\r\n",
       "<text text-anchor=\"middle\" x=\"211\" y=\"-111.8\" font-family=\"Times New Roman,serif\" font-size=\"14.00\">class = Iris&#45;versicolor</text>\r\n",
       "</g>\r\n",
       "<!-- 3&#45;&gt;5 -->\r\n",
       "<g id=\"edge5\" class=\"edge\"><title>3&#45;&gt;5</title>\r\n",
       "<path fill=\"none\" stroke=\"black\" d=\"M211,-222.907C211,-214.649 211,-205.864 211,-197.302\"/>\r\n",
       "<polygon fill=\"black\" stroke=\"black\" points=\"214.5,-197.021 211,-187.021 207.5,-197.021 214.5,-197.021\"/>\r\n",
       "</g>\r\n",
       "<!-- 6 -->\r\n",
       "<g id=\"node7\" class=\"node\"><title>6</title>\r\n",
       "<polygon fill=\"#ffffff\" stroke=\"black\" points=\"130,-68 12,-68 12,-0 130,-0 130,-68\"/>\r\n",
       "<text text-anchor=\"middle\" x=\"71\" y=\"-52.8\" font-family=\"Times New Roman,serif\" font-size=\"14.00\">gini = 0.5</text>\r\n",
       "<text text-anchor=\"middle\" x=\"71\" y=\"-37.8\" font-family=\"Times New Roman,serif\" font-size=\"14.00\">samples = 2</text>\r\n",
       "<text text-anchor=\"middle\" x=\"71\" y=\"-22.8\" font-family=\"Times New Roman,serif\" font-size=\"14.00\">value = [0, 1, 1]</text>\r\n",
       "<text text-anchor=\"middle\" x=\"71\" y=\"-7.8\" font-family=\"Times New Roman,serif\" font-size=\"14.00\">class = Iris&#45;setosa</text>\r\n",
       "</g>\r\n",
       "<!-- 5&#45;&gt;6 -->\r\n",
       "<g id=\"edge6\" class=\"edge\"><title>5&#45;&gt;6</title>\r\n",
       "<path fill=\"none\" stroke=\"black\" d=\"M158.869,-103.726C146.741,-94.2406 133.847,-84.1551 121.778,-74.7159\"/>\r\n",
       "<polygon fill=\"black\" stroke=\"black\" points=\"123.608,-71.7035 113.575,-68.2996 119.295,-77.2173 123.608,-71.7035\"/>\r\n",
       "</g>\r\n",
       "<!-- 7 -->\r\n",
       "<g id=\"node8\" class=\"node\"><title>7</title>\r\n",
       "<polygon fill=\"#8139e5\" stroke=\"black\" points=\"286,-68 148,-68 148,-0 286,-0 286,-68\"/>\r\n",
       "<text text-anchor=\"middle\" x=\"217\" y=\"-52.8\" font-family=\"Times New Roman,serif\" font-size=\"14.00\">gini = 0.0</text>\r\n",
       "<text text-anchor=\"middle\" x=\"217\" y=\"-37.8\" font-family=\"Times New Roman,serif\" font-size=\"14.00\">samples = 2</text>\r\n",
       "<text text-anchor=\"middle\" x=\"217\" y=\"-22.8\" font-family=\"Times New Roman,serif\" font-size=\"14.00\">value = [0, 0, 2]</text>\r\n",
       "<text text-anchor=\"middle\" x=\"217\" y=\"-7.8\" font-family=\"Times New Roman,serif\" font-size=\"14.00\">class = Iris&#45;versicolor</text>\r\n",
       "</g>\r\n",
       "<!-- 5&#45;&gt;7 -->\r\n",
       "<g id=\"edge7\" class=\"edge\"><title>5&#45;&gt;7</title>\r\n",
       "<path fill=\"none\" stroke=\"black\" d=\"M213.234,-103.726C213.684,-95.5175 214.158,-86.8595 214.613,-78.56\"/>\r\n",
       "<polygon fill=\"black\" stroke=\"black\" points=\"218.123,-78.4761 215.175,-68.2996 211.133,-78.0931 218.123,-78.4761\"/>\r\n",
       "</g>\r\n",
       "<!-- 9 -->\r\n",
       "<g id=\"node10\" class=\"node\"><title>9</title>\r\n",
       "<polygon fill=\"#ab7bee\" stroke=\"black\" points=\"458,-187 304,-187 304,-104 458,-104 458,-187\"/>\r\n",
       "<text text-anchor=\"middle\" x=\"381\" y=\"-171.8\" font-family=\"Times New Roman,serif\" font-size=\"14.00\">SepalLengthCm &lt;= 5.95</text>\r\n",
       "<text text-anchor=\"middle\" x=\"381\" y=\"-156.8\" font-family=\"Times New Roman,serif\" font-size=\"14.00\">gini = 0.375</text>\r\n",
       "<text text-anchor=\"middle\" x=\"381\" y=\"-141.8\" font-family=\"Times New Roman,serif\" font-size=\"14.00\">samples = 4</text>\r\n",
       "<text text-anchor=\"middle\" x=\"381\" y=\"-126.8\" font-family=\"Times New Roman,serif\" font-size=\"14.00\">value = [0, 1, 3]</text>\r\n",
       "<text text-anchor=\"middle\" x=\"381\" y=\"-111.8\" font-family=\"Times New Roman,serif\" font-size=\"14.00\">class = Iris&#45;versicolor</text>\r\n",
       "</g>\r\n",
       "<!-- 8&#45;&gt;9 -->\r\n",
       "<g id=\"edge9\" class=\"edge\"><title>8&#45;&gt;9</title>\r\n",
       "<path fill=\"none\" stroke=\"black\" d=\"M381,-222.907C381,-214.649 381,-205.864 381,-197.302\"/>\r\n",
       "<polygon fill=\"black\" stroke=\"black\" points=\"384.5,-197.021 381,-187.021 377.5,-197.021 384.5,-197.021\"/>\r\n",
       "</g>\r\n",
       "<!-- 12 -->\r\n",
       "<g id=\"node13\" class=\"node\"><title>12</title>\r\n",
       "<polygon fill=\"#8139e5\" stroke=\"black\" points=\"614,-179.5 476,-179.5 476,-111.5 614,-111.5 614,-179.5\"/>\r\n",
       "<text text-anchor=\"middle\" x=\"545\" y=\"-164.3\" font-family=\"Times New Roman,serif\" font-size=\"14.00\">gini = 0.0</text>\r\n",
       "<text text-anchor=\"middle\" x=\"545\" y=\"-149.3\" font-family=\"Times New Roman,serif\" font-size=\"14.00\">samples = 30</text>\r\n",
       "<text text-anchor=\"middle\" x=\"545\" y=\"-134.3\" font-family=\"Times New Roman,serif\" font-size=\"14.00\">value = [0, 0, 30]</text>\r\n",
       "<text text-anchor=\"middle\" x=\"545\" y=\"-119.3\" font-family=\"Times New Roman,serif\" font-size=\"14.00\">class = Iris&#45;versicolor</text>\r\n",
       "</g>\r\n",
       "<!-- 8&#45;&gt;12 -->\r\n",
       "<g id=\"edge12\" class=\"edge\"><title>8&#45;&gt;12</title>\r\n",
       "<path fill=\"none\" stroke=\"black\" d=\"M437.899,-222.907C454.758,-210.88 473.184,-197.735 489.926,-185.791\"/>\r\n",
       "<polygon fill=\"black\" stroke=\"black\" points=\"492.402,-188.324 498.51,-179.667 488.336,-182.625 492.402,-188.324\"/>\r\n",
       "</g>\r\n",
       "<!-- 10 -->\r\n",
       "<g id=\"node11\" class=\"node\"><title>10</title>\r\n",
       "<polygon fill=\"#ffffff\" stroke=\"black\" points=\"434,-68 316,-68 316,-0 434,-0 434,-68\"/>\r\n",
       "<text text-anchor=\"middle\" x=\"375\" y=\"-52.8\" font-family=\"Times New Roman,serif\" font-size=\"14.00\">gini = 0.5</text>\r\n",
       "<text text-anchor=\"middle\" x=\"375\" y=\"-37.8\" font-family=\"Times New Roman,serif\" font-size=\"14.00\">samples = 2</text>\r\n",
       "<text text-anchor=\"middle\" x=\"375\" y=\"-22.8\" font-family=\"Times New Roman,serif\" font-size=\"14.00\">value = [0, 1, 1]</text>\r\n",
       "<text text-anchor=\"middle\" x=\"375\" y=\"-7.8\" font-family=\"Times New Roman,serif\" font-size=\"14.00\">class = Iris&#45;setosa</text>\r\n",
       "</g>\r\n",
       "<!-- 9&#45;&gt;10 -->\r\n",
       "<g id=\"edge10\" class=\"edge\"><title>9&#45;&gt;10</title>\r\n",
       "<path fill=\"none\" stroke=\"black\" d=\"M378.766,-103.726C378.316,-95.5175 377.842,-86.8595 377.387,-78.56\"/>\r\n",
       "<polygon fill=\"black\" stroke=\"black\" points=\"380.867,-78.0931 376.825,-68.2996 373.877,-78.4761 380.867,-78.0931\"/>\r\n",
       "</g>\r\n",
       "<!-- 11 -->\r\n",
       "<g id=\"node12\" class=\"node\"><title>11</title>\r\n",
       "<polygon fill=\"#8139e5\" stroke=\"black\" points=\"590,-68 452,-68 452,-0 590,-0 590,-68\"/>\r\n",
       "<text text-anchor=\"middle\" x=\"521\" y=\"-52.8\" font-family=\"Times New Roman,serif\" font-size=\"14.00\">gini = 0.0</text>\r\n",
       "<text text-anchor=\"middle\" x=\"521\" y=\"-37.8\" font-family=\"Times New Roman,serif\" font-size=\"14.00\">samples = 2</text>\r\n",
       "<text text-anchor=\"middle\" x=\"521\" y=\"-22.8\" font-family=\"Times New Roman,serif\" font-size=\"14.00\">value = [0, 0, 2]</text>\r\n",
       "<text text-anchor=\"middle\" x=\"521\" y=\"-7.8\" font-family=\"Times New Roman,serif\" font-size=\"14.00\">class = Iris&#45;versicolor</text>\r\n",
       "</g>\r\n",
       "<!-- 9&#45;&gt;11 -->\r\n",
       "<g id=\"edge11\" class=\"edge\"><title>9&#45;&gt;11</title>\r\n",
       "<path fill=\"none\" stroke=\"black\" d=\"M433.131,-103.726C445.259,-94.2406 458.153,-84.1551 470.222,-74.7159\"/>\r\n",
       "<polygon fill=\"black\" stroke=\"black\" points=\"472.705,-77.2173 478.425,-68.2996 468.392,-71.7035 472.705,-77.2173\"/>\r\n",
       "</g>\r\n",
       "</g>\r\n",
       "</svg>\r\n"
      ],
      "text/plain": [
       "<graphviz.files.Source at 0x24ac7123a48>"
      ]
     },
     "execution_count": 24,
     "metadata": {},
     "output_type": "execute_result"
    }
   ],
   "source": [
    "dot_data = tree.export_graphviz(Tree, out_file=None, \n",
    "                                feature_names=train_X.columns,  \n",
    "                                class_names=train_Y.unique(),\n",
    "                                filled=True)\n",
    "\n",
    "# Draw graph \n",
    "graph = graphviz.Source(dot_data, format=\"png\") \n",
    "graph"
   ]
  },
  {
   "cell_type": "markdown",
   "id": "insured-rescue",
   "metadata": {},
   "source": [
    "### Prediction: "
   ]
  },
  {
   "cell_type": "code",
   "execution_count": 19,
   "id": "ongoing-living",
   "metadata": {},
   "outputs": [
    {
     "name": "stdout",
     "output_type": "stream",
     "text": [
      "['Iris-virginica' 'Iris-setosa' 'Iris-virginica' 'Iris-setosa'\n",
      " 'Iris-virginica' 'Iris-virginica' 'Iris-setosa' 'Iris-setosa'\n",
      " 'Iris-virginica' 'Iris-setosa' 'Iris-setosa' 'Iris-virginica'\n",
      " 'Iris-setosa' 'Iris-setosa' 'Iris-virginica' 'Iris-versicolor'\n",
      " 'Iris-versicolor' 'Iris-virginica' 'Iris-virginica' 'Iris-virginica'\n",
      " 'Iris-virginica' 'Iris-setosa' 'Iris-virginica' 'Iris-setosa'\n",
      " 'Iris-versicolor' 'Iris-virginica' 'Iris-versicolor' 'Iris-setosa'\n",
      " 'Iris-versicolor' 'Iris-virginica' 'Iris-versicolor' 'Iris-versicolor'\n",
      " 'Iris-versicolor' 'Iris-setosa' 'Iris-setosa' 'Iris-versicolor'\n",
      " 'Iris-setosa' 'Iris-versicolor']\n"
     ]
    }
   ],
   "source": [
    "predicted_Y = Tree.predict(test_X) \n",
    "print(predicted_Y)"
   ]
  },
  {
   "cell_type": "markdown",
   "id": "comfortable-celtic",
   "metadata": {},
   "source": [
    "### Accuracy:"
   ]
  },
  {
   "cell_type": "code",
   "execution_count": 20,
   "id": "chief-independence",
   "metadata": {},
   "outputs": [
    {
     "name": "stdout",
     "output_type": "stream",
     "text": [
      "Accuracy :  94.73684210526315\n"
     ]
    }
   ],
   "source": [
    "print (\"Accuracy : \", \n",
    "accuracy_score(test_Y,predicted_Y)*100)"
   ]
  },
  {
   "cell_type": "code",
   "execution_count": 21,
   "id": "mysterious-karaoke",
   "metadata": {},
   "outputs": [
    {
     "name": "stdout",
     "output_type": "stream",
     "text": [
      "Report :                   precision    recall  f1-score   support\n",
      "\n",
      "    Iris-setosa       1.00      1.00      1.00        14\n",
      "Iris-versicolor       0.90      0.90      0.90        10\n",
      " Iris-virginica       0.93      0.93      0.93        14\n",
      "\n",
      "       accuracy                           0.95        38\n",
      "      macro avg       0.94      0.94      0.94        38\n",
      "   weighted avg       0.95      0.95      0.95        38\n",
      "\n"
     ]
    }
   ],
   "source": [
    "print(\"Report : \", \n",
    "classification_report(test_Y, predicted_Y)) "
   ]
  },
  {
   "cell_type": "code",
   "execution_count": null,
   "id": "reduced-pizza",
   "metadata": {},
   "outputs": [],
   "source": []
  },
  {
   "cell_type": "code",
   "execution_count": null,
   "id": "conventional-statistics",
   "metadata": {},
   "outputs": [],
   "source": []
  }
 ],
 "metadata": {
  "kernelspec": {
   "display_name": "Python 3",
   "language": "python",
   "name": "python3"
  },
  "language_info": {
   "codemirror_mode": {
    "name": "ipython",
    "version": 3
   },
   "file_extension": ".py",
   "mimetype": "text/x-python",
   "name": "python",
   "nbconvert_exporter": "python",
   "pygments_lexer": "ipython3",
   "version": "3.7.9"
  }
 },
 "nbformat": 4,
 "nbformat_minor": 5
}
